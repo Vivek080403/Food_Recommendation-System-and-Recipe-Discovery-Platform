{
  "nbformat": 4,
  "nbformat_minor": 0,
  "metadata": {
    "colab": {
      "provenance": []
    },
    "kernelspec": {
      "name": "python3",
      "display_name": "Python 3"
    },
    "language_info": {
      "name": "python"
    }
  },
  "cells": [
    {
      "cell_type": "code",
      "execution_count": null,
      "metadata": {
        "id": "K8xN4Rz6CrMU"
      },
      "outputs": [],
      "source": [
        "import os\n",
        "import re\n",
        "os.environ['OPENAI_API_KEY'] = 'sk-proj-l7gak13g0o8HT2zyhWYZT3BlbkFJgFuC6S2XVHEhNJSn3x4w'"
      ]
    },
    {
      "cell_type": "code",
      "source": [
        "!pip install -U langchain-openai"
      ],
      "metadata": {
        "id": "MTZKfuzzuE44"
      },
      "execution_count": null,
      "outputs": []
    },
    {
      "cell_type": "code",
      "source": [
        "!pip install openai"
      ],
      "metadata": {
        "id": "pbwZCBmFuIeK"
      },
      "execution_count": null,
      "outputs": []
    },
    {
      "cell_type": "code",
      "source": [
        "from langchain.prompts import PromptTemplate\n",
        "from langchain.llms import OpenAI\n",
        "from langchain.chains import LLMChain\n"
      ],
      "metadata": {
        "id": "o9ox1t5EuRYc"
      },
      "execution_count": null,
      "outputs": []
    },
    {
      "cell_type": "code",
      "source": [
        "llm_resto = OpenAI(temperature=0.6)"
      ],
      "metadata": {
        "id": "y1E79TKHuXy5"
      },
      "execution_count": null,
      "outputs": []
    },
    {
      "cell_type": "code",
      "source": [
        "prompt_template_resto = PromptTemplate(\n",
        "    input_variables=['age', 'gender', 'weight', 'height', 'veg_or_nonveg', 'disease', 'region', 'allergics', 'foodtype'],\n",
        "    template=\"Diet Recommendation System:\\n\"\n",
        "             \"I want you to recommend 6 restaurants names, 6 breakfast names, 5 dinner names, and 6 workout names, \"\n",
        "             \"based on the following criteria:\\n\"\n",
        "             \"Person age: {age}\\n\"\n",
        "             \"Person gender: {gender}\\n\"\n",
        "             \"Person weight: {weight}\\n\"\n",
        "             \"Person height: {height}\\n\"\n",
        "             \"Person veg_or_nonveg: {veg_or_nonveg}\\n\"\n",
        "             \"Person generic disease: {disease}\\n\"\n",
        "             \"Person region: {region}\\n\"\n",
        "             \"Person allergics: {allergics}\\n\"\n",
        "             \"Person foodtype: {foodtype}.\"\n",
        ")\n",
        "\n",
        "chain_resto = LLMChain(llm=llm_resto, prompt=prompt_template_resto)"
      ],
      "metadata": {
        "id": "8Zgd5ubeu242"
      },
      "execution_count": null,
      "outputs": []
    },
    {
      "cell_type": "code",
      "source": [
        "input_data = {\n",
        "    'age': 60,\n",
        "    'gender': 'male',\n",
        "    'weight': 120,\n",
        "    'height': 5,\n",
        "    'veg_or_nonveg': 'veg',\n",
        "    'disease': 'aneamia',\n",
        "    'region': 'Pakistan',\n",
        "    'allergics': 'Latex Allergy',\n",
        "    'foodtype': 'Fruits'\n",
        "}\n",
        "\n",
        "results = chain_resto.run(input_data)"
      ],
      "metadata": {
        "id": "GFpjPnuKvKON"
      },
      "execution_count": null,
      "outputs": []
    },
    {
      "cell_type": "code",
      "source": [
        "restaurant_names = re.findall(r'Restaurants:(.*?)Breakfast:', results, re.DOTALL)\n",
        "breakfast_names = re.findall(r'Breakfast:(.*?)Dinner:', results, re.DOTALL)\n",
        "dinner_names = re.findall(r'Dinner:(.*?)Workouts:', results, re.DOTALL)\n",
        "workout_names = re.findall(r'Workouts:(.*?)$', results, re.DOTALL)"
      ],
      "metadata": {
        "id": "fVT02abuUrJQ"
      },
      "execution_count": null,
      "outputs": []
    },
    {
      "cell_type": "code",
      "source": [
        "print(\"Recommended Restaurants:\", restaurant_names)\n",
        "print(\"Recommended Breakfasts:\", breakfast_names)\n",
        "print(\"Recommended Dinners:\", dinner_names)\n",
        "print(\"Recommended Workouts:\", workout_names)"
      ],
      "metadata": {
        "colab": {
          "base_uri": "https://localhost:8080/"
        },
        "id": "3q-GQnHKUuwV",
        "outputId": "9e05e2d8-be5c-496c-d234-2833c36e5798"
      },
      "execution_count": null,
      "outputs": [
        {
          "output_type": "stream",
          "name": "stdout",
          "text": [
            "Recommended Restaurants: ['\\n1. The Green Leaf Cafe\\n2. Veggie Delights\\n3. The Herbivore Kitchen\\n4. Plant-Based Bites\\n5. Garden Grille\\n6. Healthy Harvest\\n\\n']\n",
            "Recommended Breakfasts: ['\\n1. Fruit and Yogurt Parfait\\n2. Oatmeal with Fresh Berries\\n3. Avocado Toast with Whole Wheat Bread\\n4. Tofu Scramble with Spinach and Tomatoes\\n5. Banana Walnut Pancakes\\n6. Quinoa and Vegetable Breakfast Bowl\\n\\n']\n",
            "Recommended Dinners: ['\\n1. Lentil and Vegetable Curry\\n2. Grilled Veggie and Tofu Skewers\\n3. Chickpea and Spinach Stuffed Sweet Potatoes\\n4. Quinoa and Black Bean Salad\\n5. Vegetable Stir-Fry with Brown Rice\\n6. Roasted Vegetable and Hummus Wrap\\n\\n']\n",
            "Recommended Workouts: ['\\n1. Low Impact Aerobics\\n2. Yoga for Seniors\\n3. Pilates for Strength and Flexibility\\n4. Walking or Hiking in Nature\\n5. Tai Chi for Balance and Coordination\\n6. Swimming for Low-Impact Cardio.']\n"
          ]
        }
      ]
    },
    {
      "cell_type": "code",
      "source": [
        "print(workout_names)"
      ],
      "metadata": {
        "colab": {
          "base_uri": "https://localhost:8080/"
        },
        "id": "R2yAytAvUxEz",
        "outputId": "916d3e21-3207-4efd-923b-d11cfc269427"
      },
      "execution_count": null,
      "outputs": [
        {
          "output_type": "stream",
          "name": "stdout",
          "text": [
            "['\\n1. Low Impact Aerobics\\n2. Yoga for Seniors\\n3. Pilates for Strength and Flexibility\\n4. Walking or Hiking in Nature\\n5. Tai Chi for Balance and Coordination\\n6. Swimming for Low-Impact Cardio.']\n"
          ]
        }
      ]
    },
    {
      "cell_type": "code",
      "source": [],
      "metadata": {
        "id": "p-ZZrBbFXV4J"
      },
      "execution_count": null,
      "outputs": []
    }
  ]
}